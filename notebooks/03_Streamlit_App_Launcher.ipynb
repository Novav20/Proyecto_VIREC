{
 "cells": [
  {
   "cell_type": "markdown",
   "id": "6971d307",
   "metadata": {
    "id": "6971d307"
   },
   "source": [
    "# **📓 03: Lanzador de la Interfaz Web con Streamlit**\n",
    "\n",
    "Este notebook tiene una única y clara responsabilidad: lanzar la interfaz de usuario web interactiva para el proyecto VIREC. La aplicación reside en su propio directorio (`streamlit_app/`) y este notebook actúa como el centro de control para seleccionarla y ejecutarla en un entorno de Colab.\n",
    "\n",
    "**Flujo de Trabajo:**\n",
    "1.  **Instalación y Configuración:** Se instalan las librerías, se monta Google Drive y se localiza dinámicamente la carpeta del proyecto.\n",
    "2.  **Selección de Modelo:** El script lee el registro central de experimentos (`registro_de_experimentos.csv`) y te permite seleccionar interactivamente qué modelo deseas cargar en la interfaz a través de un menú desplegable.\n",
    "3.  **Lanzamiento:** El notebook **crea un archivo de configuración temporal (`session_config.json`)** que contiene la ruta al modelo seleccionado y sus parámetros. Luego, ejecuta la aplicación `streamlit_app/app.py`, la cual lee este archivo para configurarse. Finalmente, crea un túnel público con `ngrok` para hacer la aplicación accesible."
   ]
  },
  {
   "cell_type": "markdown",
   "id": "aa4cbf04",
   "metadata": {
    "id": "aa4cbf04"
   },
   "source": [
    "### **Configuración del Entorno y Conexión**\n",
    "\n",
    "Esta celda inicial se encarga de toda la preparación necesaria. Realiza las siguientes tareas en orden:\n",
    "\n",
    "1.  **Montar Google Drive** y **localizar** la carpeta raíz del proyecto.\n",
    "2.  **Instalar las dependencias** desde el archivo `requirements.txt`.\n",
    "3.  **Importar** todas las librerías y las variables de configuración desde `config.py`.\n",
    "4.  **Definir** las rutas a los directorios de la aplicación."
   ]
  },
  {
   "cell_type": "code",
   "execution_count": 1,
   "id": "8a06f7f9",
   "metadata": {
    "cellView": "form",
    "colab": {
     "base_uri": "https://localhost:8080/"
    },
    "executionInfo": {
     "elapsed": 43617,
     "status": "ok",
     "timestamp": 1758285721445,
     "user": {
      "displayName": "juan david julio",
      "userId": "09880350231438945878"
     },
     "user_tz": 300
    },
    "id": "8a06f7f9",
    "outputId": "10da89fb-34aa-4a3d-edcb-ab21d4895f66"
   },
   "outputs": [
    {
     "name": "stdout",
     "output_type": "stream",
     "text": [
      "Mounted at /content/drive\n",
      "\n",
      "Buscando la carpeta ancla 'Proyecto_VIREC'...\n",
      "✅ ¡Proyecto encontrado! La ruta base es: /content/drive/MyDrive/Colab Notebooks/TalentoTech/Proyecto_VIREC\n",
      "\n",
      "Instalando dependencias...\n",
      "\u001b[2K   \u001b[90m━━━━━━━━━━━━━━━━━━━━━━━━━━━━━━━━━━━━━━━━\u001b[0m \u001b[32m10.0/10.0 MB\u001b[0m \u001b[31m55.2 MB/s\u001b[0m eta \u001b[36m0:00:00\u001b[0m\n",
      "\u001b[2K   \u001b[90m━━━━━━━━━━━━━━━━━━━━━━━━━━━━━━━━━━━━━━━━\u001b[0m \u001b[32m5.5/5.5 MB\u001b[0m \u001b[31m75.3 MB/s\u001b[0m eta \u001b[36m0:00:00\u001b[0m\n",
      "\u001b[2K   \u001b[90m━━━━━━━━━━━━━━━━━━━━━━━━━━━━━━━━━━━━━━━━\u001b[0m \u001b[32m6.9/6.9 MB\u001b[0m \u001b[31m97.4 MB/s\u001b[0m eta \u001b[36m0:00:00\u001b[0m\n",
      "\u001b[2K   \u001b[90m━━━━━━━━━━━━━━━━━━━━━━━━━━━━━━━━━━━━━━━━\u001b[0m \u001b[32m1.6/1.6 MB\u001b[0m \u001b[31m58.8 MB/s\u001b[0m eta \u001b[36m0:00:00\u001b[0m\n",
      "\u001b[?25h✅ Dependencias instaladas.\n",
      "✅ Configuración local importada desde config.py.\n",
      "✅ Rutas de la aplicación configuradas.\n",
      "\n",
      "✅ Entorno completamente configurado.\n"
     ]
    }
   ],
   "source": [
    "# ====================================================================================\n",
    "# @title PASO 1: SETUP, CONFIGURACIÓN Y CONEXIÓN\n",
    "# ====================================================================================\n",
    "import os\n",
    "import sys\n",
    "\n",
    "# --- 1. Montar Google Drive y buscar la ruta del proyecto ---\n",
    "if not os.path.exists('/content/drive/MyDrive'):\n",
    "    from google.colab import drive\n",
    "    drive.mount('/content/drive')\n",
    "else:\n",
    "    print(\"Google Drive ya está montado.\")\n",
    "\n",
    "NOMBRE_CARPETA_ANCLA = 'Proyecto_VIREC'\n",
    "RUTA_BASE_PROYECTO = None\n",
    "print(f\"\\nBuscando la carpeta ancla '{NOMBRE_CARPETA_ANCLA}'...\")\n",
    "for root, dirs, files in os.walk('/content/drive/MyDrive'):\n",
    "    if NOMBRE_CARPETA_ANCLA in dirs:\n",
    "        RUTA_BASE_PROYECTO = os.path.join(root, NOMBRE_CARPETA_ANCLA)\n",
    "        break\n",
    "if not RUTA_BASE_PROYECTO: raise FileNotFoundError(f\"❌ ERROR CRÍTICO: No se pudo encontrar la carpeta '{NOMBRE_CARPETA_ANCLA}'.\")\n",
    "print(f\"✅ ¡Proyecto encontrado! La ruta base es: {RUTA_BASE_PROYECTO}\")\n",
    "\n",
    "# --- 2. Instalar Dependencias ---\n",
    "ruta_requirements = os.path.join(RUTA_BASE_PROYECTO, 'requirements.txt')\n",
    "if os.path.exists(ruta_requirements):\n",
    "    print(\"\\nInstalando dependencias...\")\n",
    "    !pip install -r \"{ruta_requirements}\" -q\n",
    "    print(\"✅ Dependencias instaladas.\")\n",
    "else:\n",
    "    raise FileNotFoundError(f\"❌ ERROR: No se encontró 'requirements.txt'.\")\n",
    "\n",
    "# --- 3. Importar Librerías y Configuración ---\n",
    "import pandas as pd\n",
    "import ipywidgets as widgets\n",
    "from IPython.display import display\n",
    "from pyngrok import ngrok\n",
    "import time\n",
    "\n",
    "sys.path.append(RUTA_BASE_PROYECTO)\n",
    "try:\n",
    "    from config import NGROK_AUTH_TOKEN\n",
    "    print(\"✅ Configuración local importada desde config.py.\")\n",
    "except ImportError:\n",
    "    NGROK_AUTH_TOKEN = None\n",
    "    print(\"❌ ERROR: No se encontró 'config.py' o NGROK_AUTH_TOKEN no está definido.\")\n",
    "\n",
    "# --- 4. Construcción de Rutas para la App ---\n",
    "RUTA_APP = os.path.join(RUTA_BASE_PROYECTO, 'streamlit_app')\n",
    "RUTA_REGISTRO_MODELOS = os.path.join(RUTA_BASE_PROYECTO, 'modelos_entrenados', 'registro_de_experimentos.csv')\n",
    "print(\"✅ Rutas de la aplicación configuradas.\")\n",
    "print(\"\\n✅ Entorno completamente configurado.\")"
   ]
  },
  {
   "cell_type": "markdown",
   "id": "fa343f7f",
   "metadata": {
    "id": "fa343f7f"
   },
   "source": [
    "### **Selección de Modelo a Desplegar**\n",
    "Esta celda lee el `registro_de_experimentos.csv` para encontrar todos los modelos que has entrenado.\n",
    "\n",
    "👇 **Por favor, selecciona del menú desplegable el experimento que deseas cargar en la interfaz web antes de continuar con la siguiente celda.**"
   ]
  },
  {
   "cell_type": "code",
   "execution_count": 2,
   "id": "cbe2cf06",
   "metadata": {
    "cellView": "form",
    "colab": {
     "base_uri": "https://localhost:8080/",
     "height": 49,
     "referenced_widgets": [
      "bd6c2c7cdf934848b3c50085ace05faf",
      "043a1db041ea4f129693f70c51d41588",
      "95eafb100e66465ea94dd62f0888f979"
     ]
    },
    "executionInfo": {
     "elapsed": 378,
     "status": "ok",
     "timestamp": 1758285747573,
     "user": {
      "displayName": "juan david julio",
      "userId": "09880350231438945878"
     },
     "user_tz": 300
    },
    "id": "cbe2cf06",
    "outputId": "2d1d9511-80ff-4455-89dd-bf6d5c38d9da"
   },
   "outputs": [
    {
     "data": {
      "application/vnd.jupyter.widget-view+json": {
       "model_id": "bd6c2c7cdf934848b3c50085ace05faf",
       "version_major": 2,
       "version_minor": 0
      },
      "text/plain": [
       "Dropdown(description='Elige un experimento:', layout=Layout(width='max-content'), options=('Prueba_Parametros_…"
      ]
     },
     "metadata": {},
     "output_type": "display_data"
    }
   ],
   "source": [
    "# ====================================================================================\n",
    "# @title PASO 2: SELECCIONAR MODELO DESDE EL REGISTRO\n",
    "# ====================================================================================\n",
    "\n",
    "modelos_info = {} # Diccionario para guardar {nombre_display: {ruta: ..., img_size: ...}}\n",
    "\n",
    "if not os.path.exists(RUTA_REGISTRO_MODELOS):\n",
    "    print(f\"❌ ADVERTENCIA: No se encontró el archivo de registro en '{RUTA_REGISTRO_MODELOS}'.\")\n",
    "else:\n",
    "    df_registro = pd.read_csv(RUTA_REGISTRO_MODELOS)\n",
    "    if 'experiment_id' in df_registro.columns and 'ruta_modelo_guardado' in df_registro.columns:\n",
    "        for index, row in df_registro.iterrows():\n",
    "            # Creamos un nombre amigable para mostrar en el menú\n",
    "            display_name = f\"{row['experiment_id']} (val_acc: {row['best_val_accuracy']})\"\n",
    "            # Guardamos la información necesaria para el lanzamiento\n",
    "            modelos_info[display_name] = {\n",
    "                \"ruta_completa\": os.path.join(RUTA_BASE_PROYECTO, row['ruta_modelo_guardado']),\n",
    "                \"img_size\": int(row['img_size'])\n",
    "            }\n",
    "\n",
    "        if not modelos_info:\n",
    "             print(\"❌ ADVERTENCIA: El registro de experimentos está vacío.\")\n",
    "        else:\n",
    "            dropdown_modelos = widgets.Dropdown(\n",
    "                options=modelos_info.keys(),\n",
    "                description='Elige un experimento:',\n",
    "                style={'description_width': 'initial'}, layout={'width': 'max-content'}\n",
    "            )\n",
    "            display(dropdown_modelos)\n",
    "    else:\n",
    "        print(\"❌ ADVERTENCIA: El archivo de registro no tiene las columnas requeridas.\")"
   ]
  },
  {
   "cell_type": "markdown",
   "id": "C5ypbbxoWuNg",
   "metadata": {
    "id": "C5ypbbxoWuNg"
   },
   "source": [
    "### **Lanzamiento de la Aplicación Web**\n",
    "Esta celda final toma tu selección del menú anterior y lanza la aplicación de Streamlit, creando un túnel público con ngrok para que puedas acceder a ella."
   ]
  },
  {
   "cell_type": "code",
   "execution_count": 3,
   "id": "YLs0Ttf9Wyjg",
   "metadata": {
    "cellView": "form",
    "colab": {
     "base_uri": "https://localhost:8080/"
    },
    "executionInfo": {
     "elapsed": 6110,
     "status": "ok",
     "timestamp": 1758285758815,
     "user": {
      "displayName": "juan david julio",
      "userId": "09880350231438945878"
     },
     "user_tz": 300
    },
    "id": "YLs0Ttf9Wyjg",
    "outputId": "a9dd7b28-569e-4427-c295-dd930ec6d5eb"
   },
   "outputs": [
    {
     "name": "stdout",
     "output_type": "stream",
     "text": [
      "🚀 Preparando para lanzar el modelo: 2025-09-17_lr-0.001_bs-32_is-224_aug-T_gray-F_best.keras\n",
      "/content/drive/MyDrive/Colab Notebooks/TalentoTech/Proyecto_VIREC/streamlit_app\n",
      "✅ Archivo de configuración de sesión 'session_config.json' creado.\n",
      "Ejecutando comando: nohup streamlit run app.py &\n",
      "nohup: appending output to 'nohup.out'\n",
      "\n",
      "============================================================\n",
      "🎉 ¡Tu aplicación está en línea!\n",
      "🔗 Abre esta URL en tu navegador: NgrokTunnel: \"https://cf8cde8044f9.ngrok-free.app\" -> \"http://localhost:8501\"\n",
      "============================================================\n",
      "/content\n"
     ]
    }
   ],
   "source": [
    "# ====================================================================================\n",
    "# @title PASO 3: LANZAR LA APLICACIÓN WEB\n",
    "# ====================================================================================\n",
    "from pyngrok import ngrok\n",
    "import time\n",
    "import sys\n",
    "import json\n",
    "\n",
    "# --- Importar la configuración de NGROK ---\n",
    "sys.path.append(RUTA_BASE_PROYECTO)\n",
    "try:\n",
    "    from config import NGROK_AUTH_TOKEN\n",
    "except ImportError:\n",
    "    NGROK_AUTH_TOKEN = None\n",
    "\n",
    "if NGROK_AUTH_TOKEN and 'dropdown_modelos' in locals():\n",
    "    # --- 1. Obtener los parámetros del modelo seleccionado ---\n",
    "    seleccion = dropdown_modelos.value\n",
    "    info_modelo = modelos_info[seleccion]\n",
    "    ruta_modelo_a_lanzar = info_modelo['ruta_completa']\n",
    "    img_size_a_lanzar = info_modelo['img_size']\n",
    "\n",
    "    print(f\"🚀 Preparando para lanzar el modelo: {os.path.basename(ruta_modelo_a_lanzar)}\")\n",
    "\n",
    "    # --- 2. Moverse al directorio de la app ---\n",
    "    RUTA_APP = os.path.join(RUTA_BASE_PROYECTO, 'streamlit_app')\n",
    "    %cd {RUTA_APP}\n",
    "\n",
    "    # --- 3. CREAR EL ARCHIVO DE CONFIGURACIÓN DE SESIÓN ---\n",
    "    # Este archivo le pasará los parámetros a la app de forma segura\n",
    "    config_data = {\n",
    "        \"model_path\": ruta_modelo_a_lanzar,\n",
    "        \"img_size\": img_size_a_lanzar\n",
    "    }\n",
    "    with open('session_config.json', 'w') as f:\n",
    "        json.dump(config_data, f)\n",
    "    print(\"✅ Archivo de configuración de sesión 'session_config.json' creado.\")\n",
    "\n",
    "    # --- 4. Limpiar sesiones anteriores y lanzar la app (sin argumentos) ---\n",
    "    os.system(\"killall streamlit\")\n",
    "    ngrok.kill()\n",
    "\n",
    "    comando_lanzamiento = \"nohup streamlit run app.py &\"\n",
    "    print(f\"Ejecutando comando: {comando_lanzamiento}\")\n",
    "    get_ipython().system(comando_lanzamiento)\n",
    "\n",
    "    time.sleep(5)\n",
    "\n",
    "    # --- 5. Conectar ngrok ---\n",
    "    ngrok.set_auth_token(NGROK_AUTH_TOKEN)\n",
    "    public_url = ngrok.connect(8501)\n",
    "    print(\"\\n\" + \"=\"*60)\n",
    "    print(\"🎉 ¡Tu aplicación está en línea!\")\n",
    "    print(f\"🔗 Abre esta URL en tu navegador: {public_url}\")\n",
    "    print(\"=\"*60)\n",
    "\n",
    "    %cd /content\n",
    "else:\n",
    "    print(\"❌ ERROR: Asegúrate de ejecutar la celda anterior y de tener tu token de Ngrok en config.py.\")"
   ]
  }
 ],
 "metadata": {
  "colab": {
   "provenance": []
  },
  "kernelspec": {
   "display_name": "Python 3",
   "name": "python3"
  },
  "language_info": {
   "name": "python"
  },
  "widgets": {
   "application/vnd.jupyter.widget-state+json": {
    "043a1db041ea4f129693f70c51d41588": {
     "model_module": "@jupyter-widgets/base",
     "model_module_version": "1.2.0",
     "model_name": "LayoutModel",
     "state": {
      "_model_module": "@jupyter-widgets/base",
      "_model_module_version": "1.2.0",
      "_model_name": "LayoutModel",
      "_view_count": null,
      "_view_module": "@jupyter-widgets/base",
      "_view_module_version": "1.2.0",
      "_view_name": "LayoutView",
      "align_content": null,
      "align_items": null,
      "align_self": null,
      "border": null,
      "bottom": null,
      "display": null,
      "flex": null,
      "flex_flow": null,
      "grid_area": null,
      "grid_auto_columns": null,
      "grid_auto_flow": null,
      "grid_auto_rows": null,
      "grid_column": null,
      "grid_gap": null,
      "grid_row": null,
      "grid_template_areas": null,
      "grid_template_columns": null,
      "grid_template_rows": null,
      "height": null,
      "justify_content": null,
      "justify_items": null,
      "left": null,
      "margin": null,
      "max_height": null,
      "max_width": null,
      "min_height": null,
      "min_width": null,
      "object_fit": null,
      "object_position": null,
      "order": null,
      "overflow": null,
      "overflow_x": null,
      "overflow_y": null,
      "padding": null,
      "right": null,
      "top": null,
      "visibility": null,
      "width": "max-content"
     }
    },
    "95eafb100e66465ea94dd62f0888f979": {
     "model_module": "@jupyter-widgets/controls",
     "model_module_version": "1.5.0",
     "model_name": "DescriptionStyleModel",
     "state": {
      "_model_module": "@jupyter-widgets/controls",
      "_model_module_version": "1.5.0",
      "_model_name": "DescriptionStyleModel",
      "_view_count": null,
      "_view_module": "@jupyter-widgets/base",
      "_view_module_version": "1.2.0",
      "_view_name": "StyleView",
      "description_width": "initial"
     }
    },
    "bd6c2c7cdf934848b3c50085ace05faf": {
     "model_module": "@jupyter-widgets/controls",
     "model_module_version": "1.5.0",
     "model_name": "DropdownModel",
     "state": {
      "_dom_classes": [],
      "_model_module": "@jupyter-widgets/controls",
      "_model_module_version": "1.5.0",
      "_model_name": "DropdownModel",
      "_options_labels": [
       "Prueba_Parametros_Iniciales (val_acc: 0,8600000143051147)"
      ],
      "_view_count": null,
      "_view_module": "@jupyter-widgets/controls",
      "_view_module_version": "1.5.0",
      "_view_name": "DropdownView",
      "description": "Elige un experimento:",
      "description_tooltip": null,
      "disabled": false,
      "index": 0,
      "layout": "IPY_MODEL_043a1db041ea4f129693f70c51d41588",
      "style": "IPY_MODEL_95eafb100e66465ea94dd62f0888f979"
     }
    }
   }
  }
 },
 "nbformat": 4,
 "nbformat_minor": 5
}
